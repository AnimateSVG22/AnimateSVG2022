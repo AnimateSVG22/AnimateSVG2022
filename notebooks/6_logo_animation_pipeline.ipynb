{
 "cells": [
  {
   "cell_type": "markdown",
   "id": "cb7de992",
   "metadata": {},
   "source": [
    "# SVG Pipeline"
   ]
  },
  {
   "cell_type": "code",
   "execution_count": null,
   "id": "255650e7",
   "metadata": {},
   "outputs": [],
   "source": [
    "import os\n",
    "os.chdir(\"..\")\n",
    "from src.pipeline import * "
   ]
  },
  {
   "cell_type": "markdown",
   "id": "dc696088",
   "metadata": {},
   "source": [
    "### Load Logo"
   ]
  },
  {
   "cell_type": "code",
   "execution_count": null,
   "id": "bfd4d434",
   "metadata": {},
   "outputs": [],
   "source": [
    "logo = Logo(data_dir=\"data/uploads/logo_181.svg\")"
   ]
  },
  {
   "cell_type": "markdown",
   "id": "3f7228fe",
   "metadata": {},
   "source": [
    "### Print Logo Information"
   ]
  },
  {
   "cell_type": "code",
   "execution_count": null,
   "id": "103cc5a0",
   "metadata": {},
   "outputs": [],
   "source": [
    "logo.print_logo_information()"
   ]
  },
  {
   "cell_type": "markdown",
   "id": "ad5c8ef5",
   "metadata": {},
   "source": [
    "### Create Logo Animations"
   ]
  },
  {
   "cell_type": "code",
   "execution_count": null,
   "id": "d85b2d2e",
   "metadata": {},
   "outputs": [],
   "source": [
    "logo.animate(model='backprop')"
   ]
  },
  {
   "cell_type": "code",
   "execution_count": null,
   "id": "f98fb568",
   "metadata": {},
   "outputs": [],
   "source": [
    "logo.animate(model='opt')"
   ]
  }
 ],
 "metadata": {
  "kernelspec": {
   "display_name": "animate_logos_2",
   "language": "python",
   "name": "animate_logos_2"
  },
  "language_info": {
   "codemirror_mode": {
    "name": "ipython",
    "version": 3
   },
   "file_extension": ".py",
   "mimetype": "text/x-python",
   "name": "python",
   "nbconvert_exporter": "python",
   "pygments_lexer": "ipython3",
   "version": "3.7.11"
  }
 },
 "nbformat": 4,
 "nbformat_minor": 5
}
